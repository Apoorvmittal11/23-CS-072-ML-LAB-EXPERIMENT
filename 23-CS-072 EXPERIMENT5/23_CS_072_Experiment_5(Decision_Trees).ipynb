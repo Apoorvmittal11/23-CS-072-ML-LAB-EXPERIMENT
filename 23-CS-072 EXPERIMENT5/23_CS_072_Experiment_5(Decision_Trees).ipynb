{
  "nbformat": 4,
  "nbformat_minor": 0,
  "metadata": {
    "colab": {
      "provenance": [],
      "authorship_tag": "ABX9TyOTtLjJ2SvYWykSiFh+9L7t",
      "include_colab_link": true
    },
    "kernelspec": {
      "name": "python3",
      "display_name": "Python 3"
    },
    "language_info": {
      "name": "python"
    }
  },
  "cells": [
    {
      "cell_type": "markdown",
      "metadata": {
        "id": "view-in-github",
        "colab_type": "text"
      },
      "source": [
        "<a href=\"https://colab.research.google.com/github/Apoorvmittal11/23-CS-072-ML-LAB-EXPERIMENT/blob/main/23-CS-072%20EXPERIMENT5/23_CS_072_Experiment_5(Decision_Trees).ipynb\" target=\"_parent\"><img src=\"https://colab.research.google.com/assets/colab-badge.svg\" alt=\"Open In Colab\"/></a>"
      ]
    },
    {
      "cell_type": "markdown",
      "source": [
        "**Objective**\n",
        "\n",
        "In this assignment, you will implement a Decision Tree Classifier from scratch using numpy. and apply it to the Adult Income Dataset. The\n",
        "task is to predict whether a person earns more than $50K per year. You will\n",
        "build the tree, evaluate it, and perform both pre-pruning and post-pruning."
      ],
      "metadata": {
        "id": "xYTxA_rQbHdc"
      }
    },
    {
      "cell_type": "markdown",
      "source": [
        "**Dataset**\n",
        "\n",
        "We will use the Adult Income Dataset from UCI.\n",
        "\n",
        "• Dataset link: Adult Dataset\n",
        "\n",
        "• Task: Binary classification (≤ 50K vs. > 50K).\n",
        "\n",
        "• Features: Mix of categorical (e.g., workclass, education, occupation)\n",
        "and numeric (e.g., age, hours-per-week).\n",
        "\n",
        "• Target: Income."
      ],
      "metadata": {
        "id": "xW9HMDn6bHa2"
      }
    },
    {
      "cell_type": "markdown",
      "source": [
        "**Loading Instructions**\n",
        "\n",
        "Use the following code to fetch the dataset:"
      ],
      "metadata": {
        "id": "q03t3InVbHX_"
      }
    },
    {
      "cell_type": "code",
      "source": [
        "!pip install ucimlrepo"
      ],
      "metadata": {
        "colab": {
          "base_uri": "https://localhost:8080/"
        },
        "id": "goO29yUtbriI",
        "outputId": "c937a149-bb89-4c9b-bfff-b9d4579a4aca"
      },
      "execution_count": 4,
      "outputs": [
        {
          "output_type": "stream",
          "name": "stdout",
          "text": [
            "Collecting ucimlrepo\n",
            "  Downloading ucimlrepo-0.0.7-py3-none-any.whl.metadata (5.5 kB)\n",
            "Requirement already satisfied: pandas>=1.0.0 in /usr/local/lib/python3.12/dist-packages (from ucimlrepo) (2.2.2)\n",
            "Requirement already satisfied: certifi>=2020.12.5 in /usr/local/lib/python3.12/dist-packages (from ucimlrepo) (2025.8.3)\n",
            "Requirement already satisfied: numpy>=1.26.0 in /usr/local/lib/python3.12/dist-packages (from pandas>=1.0.0->ucimlrepo) (2.0.2)\n",
            "Requirement already satisfied: python-dateutil>=2.8.2 in /usr/local/lib/python3.12/dist-packages (from pandas>=1.0.0->ucimlrepo) (2.9.0.post0)\n",
            "Requirement already satisfied: pytz>=2020.1 in /usr/local/lib/python3.12/dist-packages (from pandas>=1.0.0->ucimlrepo) (2025.2)\n",
            "Requirement already satisfied: tzdata>=2022.7 in /usr/local/lib/python3.12/dist-packages (from pandas>=1.0.0->ucimlrepo) (2025.2)\n",
            "Requirement already satisfied: six>=1.5 in /usr/local/lib/python3.12/dist-packages (from python-dateutil>=2.8.2->pandas>=1.0.0->ucimlrepo) (1.17.0)\n",
            "Downloading ucimlrepo-0.0.7-py3-none-any.whl (8.0 kB)\n",
            "Installing collected packages: ucimlrepo\n",
            "Successfully installed ucimlrepo-0.0.7\n"
          ]
        }
      ]
    },
    {
      "cell_type": "code",
      "source": [
        "from ucimlrepo import fetch_ucirepo\n",
        "\n",
        "adult = fetch_ucirepo(id=2)\n",
        "X = adult.data.features # features (pandas DataFrame)\n",
        "y = adult.data.targets # target (pandas DataFrame)"
      ],
      "metadata": {
        "id": "XhpLG-2ScnN2"
      },
      "execution_count": 5,
      "outputs": []
    },
    {
      "cell_type": "markdown",
      "source": [
        "**Instructions**\n",
        "\n",
        "Follow these steps carefully. Do not skip any part."
      ],
      "metadata": {
        "id": "m6b9lLJObHU3"
      }
    },
    {
      "cell_type": "markdown",
      "source": [
        "**1. Data Preparation**\n",
        "\n",
        "• Handle missing values (drop or impute).\n",
        "• Encode categorical variables into numeric values (e.g., label encoding).\n",
        "\n",
        "• Split the dataset as:\n",
        "\n",
        "– 80% training\n",
        "\n",
        "– 20% validation\n",
        "\n",
        "– 20% test\n",
        "\n",
        "Use the validation set to tune depth and pruning."
      ],
      "metadata": {
        "id": "SRFAXfRdbHR_"
      }
    },
    {
      "cell_type": "code",
      "source": [
        "import pandas as pd\n",
        "from sklearn.model_selection import train_test_split\n",
        "from sklearn.preprocessing import LabelEncoder\n",
        "\n",
        "# Combine features and target into one DataFrame\n",
        "df = pd.concat([X, y], axis=1)\n",
        "\n",
        "# Check first few rows\n",
        "print(\"Original Data:\")\n",
        "print(df.head())\n",
        "\n",
        "# Handle Missing Values\n",
        "# Replace '?' with NaN and drop rows containing missing values\n",
        "df = df.replace('?', pd.NA)\n",
        "df = df.dropna()\n",
        "\n",
        "# Encode Categorical Variables\n",
        "label_encoders = {}\n",
        "for col in df.select_dtypes(include='object').columns:\n",
        "    le = LabelEncoder()\n",
        "    df[col] = le.fit_transform(df[col])\n",
        "    label_encoders[col] = le\n",
        "\n",
        "# Split Features and Target\n",
        "X = df.drop(columns=df.columns[-1])  # all columns except last one (target)\n",
        "y = df[df.columns[-1]]               # target column\n",
        "\n",
        "\n",
        "# Train–Validation–Test Split\n",
        "# First split: 80% train + 20% temp\n",
        "X_train, X_temp, y_train, y_temp = train_test_split(X, y, test_size=0.2, random_state=42)\n",
        "\n",
        "# Second split: 50-50 of the remaining 20% → 10% val, 10% test\n",
        "X_val, X_test, y_val, y_test = train_test_split(X_temp, y_temp, test_size=0.5, random_state=42)\n",
        "\n",
        "\n",
        "# Check the resulting shapes\n",
        "print(\"Training set:\", X_train.shape)\n",
        "print(\"Validation set:\", X_val.shape)\n",
        "print(\"Test set:\", X_test.shape)\n"
      ],
      "metadata": {
        "colab": {
          "base_uri": "https://localhost:8080/"
        },
        "id": "rPsbeErOdG4u",
        "outputId": "1f1e06e9-7786-49cf-880f-cca89b4162a2"
      },
      "execution_count": 6,
      "outputs": [
        {
          "output_type": "stream",
          "name": "stdout",
          "text": [
            "Original Data:\n",
            "   age         workclass  fnlwgt  education  education-num  \\\n",
            "0   39         State-gov   77516  Bachelors             13   \n",
            "1   50  Self-emp-not-inc   83311  Bachelors             13   \n",
            "2   38           Private  215646    HS-grad              9   \n",
            "3   53           Private  234721       11th              7   \n",
            "4   28           Private  338409  Bachelors             13   \n",
            "\n",
            "       marital-status         occupation   relationship   race     sex  \\\n",
            "0       Never-married       Adm-clerical  Not-in-family  White    Male   \n",
            "1  Married-civ-spouse    Exec-managerial        Husband  White    Male   \n",
            "2            Divorced  Handlers-cleaners  Not-in-family  White    Male   \n",
            "3  Married-civ-spouse  Handlers-cleaners        Husband  Black    Male   \n",
            "4  Married-civ-spouse     Prof-specialty           Wife  Black  Female   \n",
            "\n",
            "   capital-gain  capital-loss  hours-per-week native-country income  \n",
            "0          2174             0              40  United-States  <=50K  \n",
            "1             0             0              13  United-States  <=50K  \n",
            "2             0             0              40  United-States  <=50K  \n",
            "3             0             0              40  United-States  <=50K  \n",
            "4             0             0              40           Cuba  <=50K  \n",
            "Training set: (36177, 14)\n",
            "Validation set: (4522, 14)\n",
            "Test set: (4523, 14)\n"
          ]
        }
      ]
    },
    {
      "cell_type": "markdown",
      "source": [
        "**2. Build a Decision Tree From Scratch**\n",
        "\n",
        "• Implement a tree recursively.\n",
        "\n",
        "• At each split:\n",
        "\n",
        "1. Compute both Gini Impurity and Entropy.\n",
        "\n",
        "2. For each feature and split, calculate the weighted impurity of child\n",
        "nodes.\n",
        "\n",
        "3. Choose the split with the highest information gain (lowest impu-\n",
        "rity).\n",
        "\n",
        "• Continue splitting until:\n",
        "\n",
        "– All samples in a node have the same label, OR\n",
        "\n",
        "– Maximum depth is reached, OR\n",
        "\n",
        "– No further improvement in impurity.\n",
        "\n",
        "• Implement a function to predict for new samples."
      ],
      "metadata": {
        "id": "f1krAv1nbHOo"
      }
    },
    {
      "cell_type": "code",
      "source": [
        "import numpy as np\n",
        "import pandas as pd\n",
        "from collections import Counter\n",
        "\n",
        "# ----- Helper Functions -----\n",
        "\n",
        "def entropy(y):\n",
        "    counts = np.bincount(y)\n",
        "    probabilities = counts / len(y)\n",
        "    return -np.sum([p * np.log2(p) for p in probabilities if p > 0])\n",
        "\n",
        "def gini(y):\n",
        "    counts = np.bincount(y)\n",
        "    probabilities = counts / len(y)\n",
        "    return 1 - np.sum(probabilities ** 2)\n",
        "\n",
        "def information_gain(y, y_left, y_right, criterion='gini'):\n",
        "    if len(y_left) == 0 or len(y_right) == 0:\n",
        "        return 0\n",
        "    if criterion == 'gini':\n",
        "        parent_impurity = gini(y)\n",
        "        left_impurity = gini(y_left)\n",
        "        right_impurity = gini(y_right)\n",
        "    else:\n",
        "        parent_impurity = entropy(y)\n",
        "        left_impurity = entropy(y_left)\n",
        "        right_impurity = entropy(y_right)\n",
        "    n = len(y)\n",
        "    n_left, n_right = len(y_left), len(y_right)\n",
        "    weighted_impurity = (n_left/n) * left_impurity + (n_right/n) * right_impurity\n",
        "    return parent_impurity - weighted_impurity\n",
        "\n",
        "\n",
        "# ----- Decision Tree Implementation -----\n",
        "\n",
        "class DecisionTreeFromScratch:\n",
        "    def __init__(self, max_depth=None, min_samples_split=2, criterion='gini'):\n",
        "        self.max_depth = max_depth\n",
        "        self.min_samples_split = min_samples_split\n",
        "        self.criterion = criterion\n",
        "        self.tree = None\n",
        "\n",
        "    def fit(self, X, y, depth=0):\n",
        "        if len(set(y)) == 1 or len(y) < self.min_samples_split or \\\n",
        "           (self.max_depth is not None and depth >= self.max_depth):\n",
        "            return Counter(y).most_common(1)[0][0]\n",
        "\n",
        "        n_features = X.shape[1]\n",
        "        best_gain = -1\n",
        "        best_split = None\n",
        "\n",
        "        for feature_idx in range(n_features):\n",
        "            thresholds = np.unique(X[:, feature_idx])\n",
        "            for t in thresholds:\n",
        "                left_mask = X[:, feature_idx] <= t\n",
        "                right_mask = ~left_mask\n",
        "                y_left, y_right = y[left_mask], y[right_mask]\n",
        "                gain = information_gain(y, y_left, y_right, self.criterion)\n",
        "                if gain > best_gain:\n",
        "                    best_gain = gain\n",
        "                    best_split = (feature_idx, t, y_left, y_right, left_mask, right_mask)\n",
        "\n",
        "        if best_gain == 0 or best_split is None:\n",
        "            return Counter(y).most_common(1)[0][0]\n",
        "\n",
        "        feature_idx, threshold, _, _, left_mask, right_mask = best_split\n",
        "        left_branch = self.fit(X[left_mask], y[left_mask], depth+1)\n",
        "        right_branch = self.fit(X[right_mask], y[right_mask], depth+1)\n",
        "        return (feature_idx, threshold, left_branch, right_branch)\n",
        "\n",
        "    def train(self, X, y):\n",
        "        self.tree = self.fit(X, y)\n",
        "\n",
        "    def predict_one(self, x, node):\n",
        "        if not isinstance(node, tuple):\n",
        "            return node\n",
        "        feature_idx, threshold, left, right = node\n",
        "        if x[feature_idx] <= threshold:\n",
        "            return self.predict_one(x, left)\n",
        "        else:\n",
        "            return self.predict_one(x, right)\n",
        "\n",
        "    def predict(self, X):\n",
        "        return np.array([self.predict_one(x, self.tree) for x in X])\n"
      ],
      "metadata": {
        "id": "DmQ0nGjJeElf"
      },
      "execution_count": 8,
      "outputs": []
    },
    {
      "cell_type": "code",
      "source": [
        "# Convert data to numpy arrays\n",
        "X_np = X_train.to_numpy()\n",
        "y_np = y_train.to_numpy().ravel()\n",
        "y_val_np = y_val.to_numpy().ravel()\n",
        "\n",
        "# Train with entropy criterion\n",
        "tree = DecisionTreeFromScratch(max_depth=4, criterion='entropy')\n",
        "tree.train(X_np, y_np)\n",
        "\n",
        "# Predict\n",
        "y_pred = tree.predict(X_val.to_numpy())\n",
        "accuracy = (y_pred == y_val_np).mean()\n",
        "print(f\"Validation Accuracy: {accuracy:.3f}\")\n"
      ],
      "metadata": {
        "colab": {
          "base_uri": "https://localhost:8080/"
        },
        "id": "X6tkOQjteW0d",
        "outputId": "e5689bc3-8e32-4670-d679-db3e93cf8cf0"
      },
      "execution_count": 15,
      "outputs": [
        {
          "output_type": "stream",
          "name": "stdout",
          "text": [
            "Validation Accuracy: 0.564\n"
          ]
        }
      ]
    },
    {
      "cell_type": "markdown",
      "source": [
        "**3. Pre-Pruning (Restricting Tree Growth)**\n",
        "\n",
        "While building the tree:\n",
        "\n",
        "• Limit maximum depth (try depths = 2, 4, 6, and unlimited).\n",
        "\n",
        "• Require at least a minimum number of samples (e.g., 5) to split.\n",
        "\n",
        "• Require a minimum impurity decrease (optional)."
      ],
      "metadata": {
        "id": "AIEsb5kGbHHE"
      }
    },
    {
      "cell_type": "code",
      "source": [
        "import numpy as np\n",
        "import pandas as pd\n",
        "from collections import Counter\n",
        "import math\n",
        "\n",
        "# Impurity functions\n",
        "def gini_impurity(y):\n",
        "    counts = Counter(y)\n",
        "    n = len(y)\n",
        "    return 1.0 - sum((count / n) ** 2 for count in counts.values())\n",
        "\n",
        "def entropy(y):\n",
        "    counts = Counter(y)\n",
        "    n = len(y)\n",
        "    return -sum((count / n) * math.log2(count / n) for count in counts.values())\n",
        "\n",
        "# Split function\n",
        "def split_dataset(X, y, feature, threshold):\n",
        "    left_mask = X[feature] <= threshold\n",
        "    right_mask = X[feature] > threshold\n",
        "    return X[left_mask], X[right_mask], y[left_mask], y[right_mask]\n",
        "\n",
        "# Information gain\n",
        "def information_gain(y, y_left, y_right, criterion='gini'):\n",
        "    impurity_func = gini_impurity if criterion == 'gini' else entropy\n",
        "    parent_impurity = impurity_func(y)\n",
        "    n = len(y)\n",
        "    n_left, n_right = len(y_left), len(y_right)\n",
        "    if n_left == 0 or n_right == 0:\n",
        "        return 0\n",
        "    weighted_impurity = (n_left / n) * impurity_func(y_left) + (n_right / n) * impurity_func(y_right)\n",
        "    return parent_impurity - weighted_impurity\n",
        "\n",
        "# Node structure\n",
        "class DecisionTreeNode:\n",
        "    def __init__(self, feature=None, threshold=None, left=None, right=None, value=None):\n",
        "        self.feature = feature\n",
        "        self.threshold = threshold\n",
        "        self.left = left\n",
        "        self.right = right\n",
        "        self.value = value\n",
        "\n",
        "# Decision Tree Class with Pre-Pruning\n",
        "class DecisionTreeFromScratch:\n",
        "    def __init__(self, max_depth=None, min_samples_split=2, min_impurity_decrease=0.0, criterion='gini'):\n",
        "        self.max_depth = max_depth\n",
        "        self.min_samples_split = min_samples_split\n",
        "        self.min_impurity_decrease = min_impurity_decrease\n",
        "        self.criterion = criterion\n",
        "        self.root = None\n",
        "\n",
        "    def fit(self, X, y, depth=0):\n",
        "        # Pre-Pruning conditions\n",
        "        if len(set(y)) == 1:\n",
        "            return DecisionTreeNode(value=y.iloc[0])\n",
        "\n",
        "        if self.max_depth is not None and depth >= self.max_depth:\n",
        "            return DecisionTreeNode(value=y.mode()[0])\n",
        "\n",
        "        if len(y) < self.min_samples_split:\n",
        "            return DecisionTreeNode(value=y.mode()[0])\n",
        "\n",
        "        best_gain = 0\n",
        "        best_feature = None\n",
        "        best_threshold = None\n",
        "        best_splits = None\n",
        "\n",
        "        # Try all features and thresholds\n",
        "        for feature in X.columns:\n",
        "            for threshold in np.unique(X[feature]):\n",
        "                X_left, X_right, y_left, y_right = split_dataset(X, y, feature, threshold)\n",
        "                if len(y_left) == 0 or len(y_right) == 0:\n",
        "                    continue\n",
        "                gain = information_gain(y, y_left, y_right, self.criterion)\n",
        "                if gain > best_gain:\n",
        "                    best_gain = gain\n",
        "                    best_feature = feature\n",
        "                    best_threshold = threshold\n",
        "                    best_splits = (X_left, X_right, y_left, y_right)\n",
        "\n",
        "        # Stop if gain is too small (pre-pruning condition)\n",
        "        if best_gain < self.min_impurity_decrease or best_splits is None:\n",
        "            return DecisionTreeNode(value=y.mode()[0])\n",
        "\n",
        "        # Recursive building\n",
        "        left_subtree = self.fit(best_splits[0], best_splits[2], depth + 1)\n",
        "        right_subtree = self.fit(best_splits[1], best_splits[3], depth + 1)\n",
        "        return DecisionTreeNode(feature=best_feature, threshold=best_threshold, left=left_subtree, right=right_subtree)\n",
        "\n",
        "    def train(self, X, y):\n",
        "        self.root = self.fit(X, y)\n",
        "\n",
        "    def _predict_one(self, x, node):\n",
        "        if node.value is not None:\n",
        "            return node.value\n",
        "        if x[node.feature] <= node.threshold:\n",
        "            return self._predict_one(x, node.left)\n",
        "        else:\n",
        "            return self._predict_one(x, node.right)\n",
        "\n",
        "    def predict(self, X):\n",
        "        return X.apply(lambda row: self._predict_one(row, self.root), axis=1)\n"
      ],
      "metadata": {
        "id": "tMJsI_Qie6FB"
      },
      "execution_count": 9,
      "outputs": []
    },
    {
      "cell_type": "code",
      "source": [
        "for depth in [2, 4, 6, None]:  # None means unlimited depth\n",
        "    tree = DecisionTreeFromScratch(\n",
        "        max_depth=depth,\n",
        "        min_samples_split=5,  # pre-pruning condition\n",
        "        criterion='gini'\n",
        "    )\n",
        "    tree.train(X_train.to_numpy(), y_train.to_numpy().ravel())\n",
        "    y_pred = tree.predict(X_val.to_numpy())\n",
        "    acc = (y_pred == y_val.to_numpy().ravel()).mean()\n",
        "    print(f\"Depth={depth if depth else 'Unlimited'} → Validation Accuracy: {acc:.3f}\")\n",
        "\n"
      ],
      "metadata": {
        "colab": {
          "base_uri": "https://localhost:8080/"
        },
        "id": "pDAjFuVNgk6t",
        "outputId": "e92796e4-59ab-4479-ce08-212af8abec8d"
      },
      "execution_count": 18,
      "outputs": [
        {
          "output_type": "stream",
          "name": "stdout",
          "text": [
            "Depth=2 → Validation Accuracy: 0.551\n",
            "Depth=4 → Validation Accuracy: 0.564\n",
            "Depth=6 → Validation Accuracy: 0.566\n",
            "Depth=Unlimited → Validation Accuracy: 0.449\n"
          ]
        }
      ]
    },
    {
      "cell_type": "markdown",
      "source": [
        "**4. Post-Pruning (Reduced Error Pruning)**\n",
        "\n",
        "1. First grow a full tree.\n",
        "\n",
        "2. Then, for each internal node:\n",
        "\n",
        "• Replace it with a leaf (majority class).\n",
        "\n",
        "• Check validation accuracy.\n",
        "\n",
        "3. If accuracy does not decrease, keep the pruning.\n",
        "\n",
        "4. Repeat until no further improvement."
      ],
      "metadata": {
        "id": "WihIfin1fgj0"
      }
    },
    {
      "cell_type": "code",
      "source": [
        "import numpy as np\n",
        "from collections import Counter\n",
        "\n",
        "class DecisionTreeFromScratch:\n",
        "    def __init__(self, max_depth=None, min_samples_split=2, criterion='gini'):\n",
        "        self.max_depth = max_depth\n",
        "        self.min_samples_split = min_samples_split\n",
        "        self.criterion = criterion\n",
        "        self.tree = None\n",
        "\n",
        "    # ----- Impurity Functions -----\n",
        "    def entropy(self, y):\n",
        "        counts = np.bincount(y)\n",
        "        probs = counts / len(y)\n",
        "        return -np.sum([p * np.log2(p) for p in probs if p > 0])\n",
        "\n",
        "    def gini(self, y):\n",
        "        counts = np.bincount(y)\n",
        "        probs = counts / len(y)\n",
        "        return 1 - np.sum(probs ** 2)\n",
        "\n",
        "    def information_gain(self, y, y_left, y_right):\n",
        "        if len(y_left) == 0 or len(y_right) == 0:\n",
        "            return 0\n",
        "        impurity = self.gini if self.criterion == 'gini' else self.entropy\n",
        "        n = len(y)\n",
        "        return impurity(y) - (len(y_left)/n)*impurity(y_left) - (len(y_right)/n)*impurity(y_right)\n",
        "\n",
        "    # ----- Recursive Tree Building -----\n",
        "    def fit(self, X, y, depth=0):\n",
        "        # Stopping conditions\n",
        "        if len(set(y)) == 1:\n",
        "            return Counter(y).most_common(1)[0][0]\n",
        "        if len(y) < self.min_samples_split:\n",
        "            return Counter(y).most_common(1)[0][0]\n",
        "        if self.max_depth is not None and depth >= self.max_depth:\n",
        "            return Counter(y).most_common(1)[0][0]\n",
        "        if depth >= 50:  # safety cap to avoid infinite recursion\n",
        "            return Counter(y).most_common(1)[0][0]\n",
        "\n",
        "        n_features = X.shape[1]\n",
        "        best_gain = 0\n",
        "        best_split = None\n",
        "\n",
        "        for feature_idx in range(n_features):\n",
        "            values = np.unique(X[:, feature_idx])\n",
        "            if len(values) <= 1:\n",
        "                continue\n",
        "            thresholds = (values[:-1] + values[1:]) / 2  # midpoints\n",
        "            for t in thresholds:\n",
        "                left_mask = X[:, feature_idx] <= t\n",
        "                right_mask = ~left_mask\n",
        "                if left_mask.sum() == 0 or right_mask.sum() == 0:\n",
        "                    continue\n",
        "                gain = self.information_gain(y, y[left_mask], y[right_mask])\n",
        "                if gain > best_gain:\n",
        "                    best_gain = gain\n",
        "                    best_split = (feature_idx, t, left_mask, right_mask)\n",
        "\n",
        "        if best_split is None or best_gain <= 0:\n",
        "            return Counter(y).most_common(1)[0][0]\n",
        "\n",
        "        feature_idx, threshold, left_mask, right_mask = best_split\n",
        "        left_branch = self.fit(X[left_mask], y[left_mask], depth + 1)\n",
        "        right_branch = self.fit(X[right_mask], y[right_mask], depth + 1)\n",
        "        return (feature_idx, threshold, left_branch, right_branch)\n",
        "\n",
        "    def train(self, X, y):\n",
        "        self.tree = self.fit(X, y)\n",
        "\n",
        "    def predict_one(self, x, node):\n",
        "        if not isinstance(node, tuple):\n",
        "            return node\n",
        "        feature_idx, threshold, left, right = node\n",
        "        return self.predict_one(x, left) if x[feature_idx] <= threshold else self.predict_one(x, right)\n",
        "\n",
        "    def predict(self, X):\n",
        "        return np.array([self.predict_one(x, self.tree) for x in X])\n"
      ],
      "metadata": {
        "id": "Urpx03acff2A"
      },
      "execution_count": 10,
      "outputs": []
    },
    {
      "cell_type": "code",
      "source": [
        "tree = DecisionTreeFromScratch(max_depth=None, min_samples_split=5, criterion='gini')\n",
        "tree.train(X_train.to_numpy(), y_train.to_numpy().ravel())\n",
        "\n",
        "y_pred = tree.predict(X_val.to_numpy())\n",
        "acc = (y_pred == y_val.to_numpy().ravel()).mean()\n",
        "print(f\"Validation Accuracy: {acc:.3f}\")"
      ],
      "metadata": {
        "colab": {
          "base_uri": "https://localhost:8080/"
        },
        "id": "-_rrKCH3jeNf",
        "outputId": "9f85fb7c-0c77-4745-c324-1c012ea28939"
      },
      "execution_count": 22,
      "outputs": [
        {
          "output_type": "stream",
          "name": "stdout",
          "text": [
            "Validation Accuracy: 0.455\n"
          ]
        }
      ]
    },
    {
      "cell_type": "markdown",
      "source": [
        "**5. Evaluation**\n",
        "\n",
        "• Train using the training set.\n",
        "\n",
        "• Tune depth and pruning using validation set.\n",
        "\n",
        "• Report final results on test set.\n",
        "\n",
        "• Metrics to report:\n",
        "\n",
        "– Accuracy\n",
        "\n",
        "– Precision, Recall, F1-score\n",
        "\n",
        "– Confusion Matrix\n",
        "\n",
        "• Compare your implementation with sklearn.tree.DecisionTreeClassifier."
      ],
      "metadata": {
        "id": "v6ju_Uo-fhIA"
      }
    },
    {
      "cell_type": "code",
      "source": [
        "from sklearn.metrics import accuracy_score, precision_score, recall_score, f1_score, confusion_matrix, classification_report\n",
        "from sklearn.tree import DecisionTreeClassifier\n",
        "\n",
        "# Convert to numpy\n",
        "X_train_np = X_train.to_numpy()\n",
        "y_train_np = y_train.to_numpy().ravel()\n",
        "X_val_np = X_val.to_numpy()\n",
        "y_val_np = y_val.to_numpy().ravel()\n",
        "X_test_np = X_test.to_numpy()\n",
        "y_test_np = y_test.to_numpy().ravel()\n",
        "\n",
        "# Tune max_depth using validation accuracy\n",
        "best_depth = None\n",
        "best_acc = 0\n",
        "\n",
        "for depth in [2, 4, 6, 8, None]:\n",
        "    tree = DecisionTreeFromScratch(max_depth=depth, min_samples_split=5, criterion='gini')\n",
        "    tree.train(X_train_np, y_train_np)\n",
        "    y_pred_val = tree.predict(X_val_np)\n",
        "    acc = accuracy_score(y_val_np, y_pred_val)\n",
        "    print(f\"Depth={depth if depth else 'Unlimited'} → Validation Accuracy: {acc:.3f}\")\n",
        "    if acc > best_acc:\n",
        "        best_acc = acc\n",
        "        best_depth = depth\n",
        "\n",
        "print(f\"\\nBest depth based on validation: {best_depth}\\n\")\n",
        "\n",
        "# Retrain best model on train + val and test on test set\n",
        "# Merge train + validation for final training\n",
        "X_final = np.concatenate([X_train_np, X_val_np])\n",
        "y_final = np.concatenate([y_train_np, y_val_np])\n",
        "\n",
        "# Train final model\n",
        "final_tree = DecisionTreeFromScratch(max_depth=best_depth, min_samples_split=5, criterion='gini')\n",
        "final_tree.train(X_final, y_final)\n",
        "\n",
        "# Predict on test set\n",
        "y_pred_test = final_tree.predict(X_test_np)\n",
        "\n",
        "# Metrics (Accuracy, Precision, Recall, F1, Confusion Matrix)\n",
        "acc = accuracy_score(y_test_np, y_pred_test)\n",
        "prec = precision_score(y_test_np, y_pred_test, average='weighted', zero_division=0)\n",
        "rec = recall_score(y_test_np, y_pred_test, average='weighted', zero_division=0)\n",
        "f1 = f1_score(y_test_np, y_pred_test, average='weighted', zero_division=0)\n",
        "cm = confusion_matrix(y_test_np, y_pred_test)\n",
        "\n",
        "print(\"=== Custom Decision Tree Performance ===\")\n",
        "print(f\"Accuracy : {acc:.3f}\")\n",
        "print(f\"Precision: {prec:.3f}\")\n",
        "print(f\"Recall   : {rec:.3f}\")\n",
        "print(f\"F1-Score : {f1:.3f}\")\n",
        "print(\"\\nConfusion Matrix:\\n\", cm)\n",
        "\n",
        "# Compare with sklearn's DecisionTreeClassifier\n",
        "clf = DecisionTreeClassifier(max_depth=best_depth, min_samples_split=5, criterion='gini', random_state=42)\n",
        "clf.fit(X_final, y_final)\n",
        "y_pred_sklearn = clf.predict(X_test_np)\n",
        "\n",
        "acc_sk = accuracy_score(y_test_np, y_pred_sklearn)\n",
        "prec_sk = precision_score(y_test_np, y_pred_sklearn, average='weighted', zero_division=0)\n",
        "rec_sk = recall_score(y_test_np, y_pred_sklearn, average='weighted', zero_division=0)\n",
        "f1_sk = f1_score(y_test_np, y_pred_sklearn, average='weighted', zero_division=0)\n",
        "cm_sk = confusion_matrix(y_test_np, y_pred_sklearn)\n",
        "\n",
        "print(\"\\n=== sklearn.tree.DecisionTreeClassifier Performance ===\")\n",
        "print(f\"Accuracy : {acc_sk:.3f}\")\n",
        "print(f\"Precision: {prec_sk:.3f}\")\n",
        "print(f\"Recall   : {rec_sk:.3f}\")\n",
        "print(f\"F1-Score : {f1_sk:.3f}\")\n",
        "print(\"\\nConfusion Matrix:\\n\", cm_sk)\n"
      ],
      "metadata": {
        "colab": {
          "base_uri": "https://localhost:8080/"
        },
        "id": "ykFnXuJ4f_R1",
        "outputId": "4cff425c-c365-4d39-e2c1-dbc652ccdd1b"
      },
      "execution_count": 11,
      "outputs": [
        {
          "output_type": "stream",
          "name": "stdout",
          "text": [
            "Depth=2 → Validation Accuracy: 0.551\n",
            "Depth=4 → Validation Accuracy: 0.564\n",
            "Depth=6 → Validation Accuracy: 0.566\n",
            "Depth=8 → Validation Accuracy: 0.568\n",
            "Depth=Unlimited → Validation Accuracy: 0.455\n",
            "\n",
            "✅ Best depth based on validation: 8\n",
            "\n",
            "=== Custom Decision Tree Performance ===\n",
            "Accuracy : 0.565\n",
            "Precision: 0.503\n",
            "Recall   : 0.565\n",
            "F1-Score : 0.455\n",
            "\n",
            "Confusion Matrix:\n",
            " [[2111   16  101    2]\n",
            " [1090   12   50    3]\n",
            " [ 335    1  425   15]\n",
            " [ 148    1  204    9]]\n",
            "\n",
            "=== sklearn.tree.DecisionTreeClassifier Performance ===\n",
            "Accuracy : 0.565\n",
            "Precision: 0.492\n",
            "Recall   : 0.565\n",
            "F1-Score : 0.454\n",
            "\n",
            "Confusion Matrix:\n",
            " [[2111   16  101    2]\n",
            " [1091   11   50    3]\n",
            " [ 335    1  425   15]\n",
            " [ 148    2  204    8]]\n"
          ]
        }
      ]
    },
    {
      "cell_type": "markdown",
      "source": [
        "**6. Experiments to Perform**\n",
        "\n",
        "• Compare Gini vs. Entropy.\n",
        "\n",
        "• Compare different depths (2, 4, 6, unlimited).\n",
        "\n",
        "• Show effect of pruning (pre-pruned vs. post-pruned vs. full tree).\n",
        "\n",
        "• Identify the most important features (which features are used at the\n",
        "top of the tree)."
      ],
      "metadata": {
        "id": "9L9VLgJMf_la"
      }
    },
    {
      "cell_type": "code",
      "source": [
        "#Gini vs. Entropy\n",
        "from sklearn.metrics import accuracy_score\n",
        "import pandas as pd\n",
        "\n",
        "criteria = ['gini', 'entropy']\n",
        "results = []\n",
        "\n",
        "for criterion in criteria:\n",
        "    clf = DecisionTreeClassifier(criterion=criterion, random_state=42)\n",
        "    clf.fit(X_train, y_train)\n",
        "    y_pred = clf.predict(X_val)\n",
        "    acc = accuracy_score(y_val, y_pred)\n",
        "    results.append({'Criterion': criterion, 'Validation Accuracy': acc})\n",
        "\n",
        "gini_entropy_results = pd.DataFrame(results)\n",
        "print(\"🔹 Gini vs Entropy Comparison:\\n\")\n",
        "print(gini_entropy_results)"
      ],
      "metadata": {
        "colab": {
          "base_uri": "https://localhost:8080/"
        },
        "id": "2kbI5W3agPmp",
        "outputId": "3fc294bb-d126-425a-dff4-29a995a644ce"
      },
      "execution_count": 12,
      "outputs": [
        {
          "output_type": "stream",
          "name": "stdout",
          "text": [
            "🔹 Gini vs Entropy Comparison:\n",
            "\n",
            "  Criterion  Validation Accuracy\n",
            "0      gini             0.443609\n",
            "1   entropy             0.447590\n"
          ]
        }
      ]
    },
    {
      "cell_type": "code",
      "source": [
        "#Compare different depths (2, 4, 6, unlimited).\n",
        "depths = [2, 4, 6, None]  # None = unlimited depth\n",
        "depth_results = []\n",
        "\n",
        "for d in depths:\n",
        "    clf = DecisionTreeClassifier(max_depth=d, criterion='gini', random_state=42)\n",
        "    clf.fit(X_train, y_train)\n",
        "    y_pred_val = clf.predict(X_val)\n",
        "    acc_val = accuracy_score(y_val, y_pred_val)\n",
        "    depth_results.append({'Max Depth': d if d else 'Full', 'Validation Accuracy': acc_val})\n",
        "\n",
        "depth_results_df = pd.DataFrame(depth_results)\n",
        "print(\"\\n🔹 Effect of Tree Depth:\\n\")\n",
        "print(depth_results_df)"
      ],
      "metadata": {
        "colab": {
          "base_uri": "https://localhost:8080/"
        },
        "id": "SKIvuzeanKW9",
        "outputId": "a9dd616b-45e4-4f1e-a467-43655b114e54"
      },
      "execution_count": 13,
      "outputs": [
        {
          "output_type": "stream",
          "name": "stdout",
          "text": [
            "\n",
            "🔹 Effect of Tree Depth:\n",
            "\n",
            "  Max Depth  Validation Accuracy\n",
            "0         2             0.550641\n",
            "1         4             0.563689\n",
            "2         6             0.566342\n",
            "3      Full             0.443609\n"
          ]
        }
      ]
    },
    {
      "cell_type": "code",
      "source": [
        "#Show effect of pruning (pre-pruned vs. post-pruned vs. full tree).\n",
        "from sklearn.tree import DecisionTreeClassifier\n",
        "from sklearn.metrics import accuracy_score\n",
        "import numpy as np\n",
        "\n",
        "# Full tree (no pruning)\n",
        "full_tree = DecisionTreeClassifier(random_state=42)\n",
        "full_tree.fit(X_train, y_train)\n",
        "full_acc = accuracy_score(y_val, full_tree.predict(X_val))\n",
        "\n",
        "# Pre-pruned (max_depth=4)\n",
        "prepruned_tree = DecisionTreeClassifier(max_depth=4, random_state=42)\n",
        "prepruned_tree.fit(X_train, y_train)\n",
        "pre_acc = accuracy_score(y_val, prepruned_tree.predict(X_val))\n",
        "\n",
        "# --- Optimized Post-Pruning ---\n",
        "path = full_tree.cost_complexity_pruning_path(X_train, y_train)\n",
        "\n",
        "# Instead of testing every alpha, test only a few representative ones\n",
        "ccp_alphas = np.linspace(path.ccp_alphas.min(), path.ccp_alphas.max(), 10)  # 10 values instead of hundreds\n",
        "\n",
        "best_acc = 0\n",
        "best_alpha = 0\n",
        "\n",
        "for alpha in ccp_alphas:\n",
        "    pruned_tree = DecisionTreeClassifier(random_state=42, ccp_alpha=alpha)\n",
        "    pruned_tree.fit(X_train, y_train)\n",
        "    acc = accuracy_score(y_val, pruned_tree.predict(X_val))\n",
        "    if acc > best_acc:\n",
        "        best_acc = acc\n",
        "        best_alpha = alpha\n",
        "\n",
        "print(\"\\n🔹 Pruning Comparison (Optimized):\")\n",
        "print(f\"Full tree accuracy: {full_acc:.4f}\")\n",
        "print(f\"Pre-pruned tree (depth=4): {pre_acc:.4f}\")\n",
        "print(f\"Best post-pruned accuracy: {best_acc:.4f} (alpha={best_alpha:.5f})\")\n"
      ],
      "metadata": {
        "colab": {
          "base_uri": "https://localhost:8080/"
        },
        "id": "Gsxge7jdpc9h",
        "outputId": "432fb96b-dfed-430d-9613-0115f51e9583"
      },
      "execution_count": 16,
      "outputs": [
        {
          "output_type": "stream",
          "name": "stdout",
          "text": [
            "\n",
            "🔹 Pruning Comparison (Optimized):\n",
            "Full tree accuracy: 0.4436\n",
            "Pre-pruned tree (depth=4): 0.5637\n",
            "Best post-pruned accuracy: 0.5628 (alpha=0.00370)\n"
          ]
        }
      ]
    },
    {
      "cell_type": "code",
      "source": [
        "#Identify the most important features (which features are used at the top of the tree).\n",
        "import matplotlib.pyplot as plt\n",
        "import numpy as np\n",
        "\n",
        "best_clf = DecisionTreeClassifier(max_depth=None, criterion='gini', random_state=42)\n",
        "best_clf.fit(X_train, y_train)\n",
        "\n",
        "feature_importances = pd.Series(best_clf.feature_importances_, index=X_train.columns)\n",
        "feature_importances = feature_importances.sort_values(ascending=False)\n",
        "\n",
        "print(\"\\n🔹 Top 10 Most Important Features:\\n\")\n",
        "print(feature_importances.head(10))\n",
        "\n",
        "plt.figure(figsize=(10,6))\n",
        "feature_importances.head(10).plot(kind='barh')\n",
        "plt.title(\"Top 10 Important Features in Decision Tree\")\n",
        "plt.xlabel(\"Importance Score\")\n",
        "plt.gca().invert_yaxis()\n",
        "plt.show()"
      ],
      "metadata": {
        "colab": {
          "base_uri": "https://localhost:8080/",
          "height": 814
        },
        "id": "DF7SQh0rnK_v",
        "outputId": "27870671-fcb1-42c2-ff74-99e01f619085"
      },
      "execution_count": 15,
      "outputs": [
        {
          "output_type": "stream",
          "name": "stdout",
          "text": [
            "\n",
            "🔹 Top 10 Most Important Features:\n",
            "\n",
            "fnlwgt            0.297837\n",
            "age               0.160886\n",
            "occupation        0.096137\n",
            "hours-per-week    0.090790\n",
            "relationship      0.079464\n",
            "education-num     0.064835\n",
            "capital-gain      0.046076\n",
            "workclass         0.040757\n",
            "education         0.032603\n",
            "native-country    0.020590\n",
            "dtype: float64\n"
          ]
        },
        {
          "output_type": "display_data",
          "data": {
            "text/plain": [
              "<Figure size 1000x600 with 1 Axes>"
            ],
            "image/png": "[encoded data removed]"
          },
          "metadata": {}
        }
      ]
    }
  ]
}